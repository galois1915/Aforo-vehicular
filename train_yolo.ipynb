{
 "cells": [
  {
   "cell_type": "code",
   "execution_count": null,
   "metadata": {},
   "outputs": [],
   "source": [
    "# train yolov7\n",
    "!ls"
   ]
  },
  {
   "cell_type": "code",
   "execution_count": null,
   "metadata": {},
   "outputs": [],
   "source": [
    "%cd yolov7"
   ]
  },
  {
   "cell_type": "code",
   "execution_count": null,
   "metadata": {},
   "outputs": [],
   "source": [
    "!ls"
   ]
  },
  {
   "cell_type": "code",
   "execution_count": null,
   "metadata": {},
   "outputs": [],
   "source": [
    "!python train.py --freeze 29 --batch-size 32 --data \"../data/FineTuned_YOLO/data.yaml\" --img 1080 1920 --cfg cfg/training/yolov7-e6e.yaml --weight \"./yolov7-e6e.pt\" --name yolov7-custom-freeze --epoch 200\n",
    "!python detect.py --weights \"./runs/train/yolov7-custom-freeze/weights/best.pt\" --conf 0.25 --source ./video1_test.mp4"
   ]
  },
  {
   "cell_type": "code",
   "execution_count": null,
   "metadata": {},
   "outputs": [],
   "source": [
    "https://learnopencv.com/fine-tuning-yolov7-on-custom-dataset/"
   ]
  }
 ],
 "metadata": {
  "language_info": {
   "name": "python"
  }
 },
 "nbformat": 4,
 "nbformat_minor": 2
}
