{
 "cells": [
  {
   "cell_type": "code",
   "execution_count": 1,
   "metadata": {},
   "outputs": [],
   "source": [
    "import json\n",
    "import cv2\n",
    "import matplotlib.pyplot as plt\n",
    "import os"
   ]
  },
  {
   "cell_type": "code",
   "execution_count": 3,
   "metadata": {},
   "outputs": [],
   "source": [
    "data = json.load(open(\"./data/video2_data/instances_default.json\"))"
   ]
  },
  {
   "cell_type": "code",
   "execution_count": 4,
   "metadata": {},
   "outputs": [
    {
     "data": {
      "text/plain": [
       "[{'id': 1, 'name': 'Auto Privado', 'supercategory': ''},\n",
       " {'id': 2, 'name': 'Bus', 'supercategory': ''},\n",
       " {'id': 3, 'name': 'Camioneta rural', 'supercategory': ''},\n",
       " {'id': 4, 'name': 'Microbus', 'supercategory': ''},\n",
       " {'id': 5, 'name': 'Mototaxi', 'supercategory': ''},\n",
       " {'id': 6, 'name': 'Moto lineal', 'supercategory': ''},\n",
       " {'id': 7, 'name': 'Omnibus Interprovincial', 'supercategory': ''},\n",
       " {'id': 8, 'name': 'Auto colectivo', 'supercategory': ''},\n",
       " {'id': 9, 'name': 'Articulado', 'supercategory': ''}]"
      ]
     },
     "execution_count": 4,
     "metadata": {},
     "output_type": "execute_result"
    }
   ],
   "source": [
    "data[\"categories\"]"
   ]
  },
  {
   "cell_type": "code",
   "execution_count": 5,
   "metadata": {},
   "outputs": [
    {
     "name": "stdout",
     "output_type": "stream",
     "text": [
      "29290\n",
      "7421\n"
     ]
    }
   ],
   "source": [
    "print(len(data[\"images\"]))\n",
    "print(len(data[\"annotations\"]))"
   ]
  },
  {
   "cell_type": "code",
   "execution_count": 6,
   "metadata": {},
   "outputs": [
    {
     "data": {
      "text/plain": [
       "{'id': 1,\n",
       " 'image_id': 1,\n",
       " 'category_id': 5,\n",
       " 'segmentation': [],\n",
       " 'area': 6938.2555000000075,\n",
       " 'bbox': [1603.3, 281.79, 75.13, 92.35],\n",
       " 'iscrowd': 0,\n",
       " 'attributes': {'occluded': False, 'rotation': 0.0}}"
      ]
     },
     "execution_count": 6,
     "metadata": {},
     "output_type": "execute_result"
    }
   ],
   "source": [
    "data[\"annotations\"][0]"
   ]
  },
  {
   "cell_type": "code",
   "execution_count": 7,
   "metadata": {},
   "outputs": [],
   "source": [
    "img_with_annotation = [i[\"image_id\"] for i in data[\"annotations\"]]"
   ]
  },
  {
   "cell_type": "markdown",
   "metadata": {},
   "source": [
    "# Redimention and save img"
   ]
  },
  {
   "cell_type": "code",
   "execution_count": 9,
   "metadata": {},
   "outputs": [
    {
     "data": {
      "text/plain": [
       "(384, 216)"
      ]
     },
     "execution_count": 9,
     "metadata": {},
     "output_type": "execute_result"
    }
   ],
   "source": [
    "cap = cv2.VideoCapture(\"./data/videos/video2.mp4\")\n",
    "_,frame = cap.read()\n",
    "r = frame.shape[0]/frame.shape[1] # H/W\n",
    "new_W = frame.shape[1]/5\n",
    "dim = (int(new_W), int(r * new_W))\n",
    "\n",
    "H,W= dim\n",
    "dim"
   ]
  },
  {
   "cell_type": "code",
   "execution_count": 10,
   "metadata": {},
   "outputs": [],
   "source": [
    "cap = cv2.VideoCapture(\"./data/videos/video2.mp4\")\n",
    "count = 1\n",
    "set_img = set(img_with_annotation)\n",
    "success, frame = cap.read()\n",
    "while success:\n",
    "    name = \"./data/videos/dummi2/frame_\" + str(count) + \".png\"\n",
    "    if count in set_img:\n",
    "        resized = cv2.resize(frame, dim, interpolation=cv2.INTER_AREA)\n",
    "        cv2.imwrite(name,resized)  # SAVE IMG\n",
    "    success, frame = cap.read()\n",
    "    count = count + 1\n",
    "cap.release()"
   ]
  },
  {
   "cell_type": "code",
   "execution_count": 13,
   "metadata": {},
   "outputs": [
    {
     "data": {
      "text/plain": [
       "216"
      ]
     },
     "execution_count": 13,
     "metadata": {},
     "output_type": "execute_result"
    }
   ],
   "source": [
    "Ho = 1080\n",
    "Wo = 1920\n",
    "W"
   ]
  },
  {
   "cell_type": "code",
   "execution_count": 11,
   "metadata": {},
   "outputs": [],
   "source": [
    "def coco_to_yolo(coco_bbox, image_width=W, image_height=H):\n",
    "    x_min, y_min, width, height = coco_bbox\n",
    "    \n",
    "    # COCO format to YOLO format\n",
    "    center_x = (x_min + width / 2) / image_width\n",
    "    center_y = (y_min + height / 2) / image_height\n",
    "    yolo_width = width / image_width\n",
    "    yolo_height = height / image_height\n",
    "    \n",
    "    return [center_x, center_y, yolo_width, yolo_height]\n",
    "\n",
    "def yolo_to_coco(yolo_bbox, image_width=W, image_height=H):\n",
    "    center_x, center_y, yolo_width, yolo_height = yolo_bbox\n",
    "    \n",
    "    # YOLO format to COCO format\n",
    "    x_min = int((center_x - yolo_width / 2) * image_width)\n",
    "    y_min = int((center_y - yolo_height / 2) * image_height)\n",
    "    width = int(yolo_width * image_width)\n",
    "    height = int(yolo_height * image_height)\n",
    "    \n",
    "    return [x_min, y_min, width, height]"
   ]
  },
  {
   "cell_type": "code",
   "execution_count": 19,
   "metadata": {},
   "outputs": [],
   "source": [
    "for i in data[\"annotations\"]:\n",
    "    f = open(\"./data/videos/dummi2_labels/frame_\"+str(i[\"image_id\"])+\".txt\", \"a\")\n",
    "    f.write(str(int(i[\"category_id\"]-1))+ \" \")\n",
    "    \n",
    "    # cl,x,y,w,h = [eval(i) for i in boxx] YOLO\n",
    "    # # Bboxes are in [top-left-x, top-left-y, width, height]  COCO\n",
    "    box = coco_to_yolo(i[\"bbox\"])\n",
    "\n",
    "    # due of resized\n",
    "    box[0] = box[0]*W/Wo\n",
    "    box[1] = box[1]*H/Ho\n",
    "    box[2] = box[2]*W/Wo\n",
    "    box[3] = box[3]*H/Ho\n",
    "    \n",
    "    for b in box:\n",
    "        f.write( f\"{b:.5f}\" + \" \")\n",
    "    f.write(\"\\n\")\n",
    "    f.close()"
   ]
  },
  {
   "cell_type": "code",
   "execution_count": 15,
   "metadata": {},
   "outputs": [],
   "source": [
    "def oslistdir(directory):\n",
    "    def get_creation_time(entry):\n",
    "        return entry.stat().st_ctime\n",
    "\n",
    "    with os.scandir(directory) as entries:\n",
    "        sorted_entries = sorted(entries, key=get_creation_time)\n",
    "        sorted_items = [entry.name for entry in sorted_entries]\n",
    "    return sorted_items"
   ]
  },
  {
   "cell_type": "code",
   "execution_count": 20,
   "metadata": {},
   "outputs": [],
   "source": [
    "names = []\n",
    "for i in oslistdir(\"./data/videos/dummi2\"):\n",
    "    i = i.split(\".\")[0]\n",
    "    names.append(i)"
   ]
  },
  {
   "cell_type": "code",
   "execution_count": 44,
   "metadata": {},
   "outputs": [],
   "source": [
    "# CREATE VIDEO WITH IMG WITH ANNOTATIONS\n",
    "img_array = []\n",
    "for name in names:\n",
    "    img = cv2.imread(\"./data/videos/dummi2/\" + name + \".png\")\n",
    "    box=[]\n",
    "    with open(\"./data/videos/dummi2_labels/\" + name + \".txt\", \"r\") as f:\n",
    "        for i in f:\n",
    "            box.append(i.split())\n",
    "    f.close()\n",
    "\n",
    "    for boxx in box:\n",
    "    \n",
    "        cl,x,y,w,h = [eval(i) for i in boxx]\n",
    "\n",
    "        h_frame,w_frame,channel = frame.shape\n",
    "\n",
    "        # top left\n",
    "        xtl = int(x*w_frame-w*w_frame/2)\n",
    "        ytl = int(y*h_frame+h*h_frame/2)\n",
    "\n",
    "        # bottom right\n",
    "        xbr = int(x*w_frame+w*w_frame/2)\n",
    "        ybr = int(y*h_frame-h*h_frame/2)\n",
    "\n",
    "        img = cv2.rectangle(img, (xtl,ytl),(xbr,ybr),(0,255,0),2 )\n",
    "\n",
    "\n",
    "    height, width, layers = frame.shape\n",
    "    size = (width, height)\n",
    "    img_array.append(img)\n",
    "\n",
    "out = cv2.VideoWriter(\"./data/videos/video2_low.mp4\",cv2.VideoWriter_fourcc('m', 'p', '4', 'v'), 2, size)\n",
    "\n",
    "\n",
    "for img in img_array:\n",
    "    #time.sleep()\n",
    "    out.write(img)\n",
    "out.release()"
   ]
  },
  {
   "cell_type": "code",
   "execution_count": 37,
   "metadata": {},
   "outputs": [
    {
     "name": "stdout",
     "output_type": "stream",
     "text": [
      "(216, 384, 3)\n",
      "(384, 216)\n"
     ]
    }
   ],
   "source": [
    "print(frame.shape)\n",
    "print(size)"
   ]
  },
  {
   "cell_type": "code",
   "execution_count": 25,
   "metadata": {},
   "outputs": [
    {
     "data": {
      "text/plain": [
       "(216, 384, 3)"
      ]
     },
     "execution_count": 25,
     "metadata": {},
     "output_type": "execute_result"
    }
   ],
   "source": [
    "frame.shape"
   ]
  }
 ],
 "metadata": {
  "kernelspec": {
   "display_name": ".env",
   "language": "python",
   "name": "python3"
  },
  "language_info": {
   "codemirror_mode": {
    "name": "ipython",
    "version": 3
   },
   "file_extension": ".py",
   "mimetype": "text/x-python",
   "name": "python",
   "nbconvert_exporter": "python",
   "pygments_lexer": "ipython3",
   "version": "3.10.12"
  }
 },
 "nbformat": 4,
 "nbformat_minor": 2
}
