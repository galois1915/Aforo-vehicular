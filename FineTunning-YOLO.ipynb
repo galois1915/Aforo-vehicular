{
 "cells": [
  {
   "cell_type": "code",
   "execution_count": null,
   "metadata": {},
   "outputs": [],
   "source": [
    "cap = cv2.VideoCapture(\"./data/videos/video1.mp4\")\n",
    "count = 0\n",
    "while True:\n",
    "    ret, frame = cap.read()\n",
    "    if count >= 29970:\n",
    "        if ret and (count <=29970 + 170):\n",
    "            name = \"./data/obj_train_data/images/frame_0\"+str(count) + \".jpg\"\n",
    "            cv2.imwrite(name,frame)\n",
    "        else:\n",
    "            break\n",
    "    \n",
    "    count = count + 1\n",
    "cap.release()"
   ]
  },
  {
   "cell_type": "code",
   "execution_count": null,
   "metadata": {},
   "outputs": [],
   "source": [
    "frame = cv2.imread(\"./data/obj_train_data/images/frame_030138.jpg\")\n",
    "\n",
    "box = []\n",
    "with open(\"./data/obj_train_data/labels/frame_030138.txt\", \"r\") as f:\n",
    "    for i in f:\n",
    "        box.append(i.split())\n",
    "f.close()\n",
    "\n",
    "cl,x,y,w,h = [eval(i) for i in box[1]]\n",
    "h_frame,w_frame,channel = frame.shape\n",
    "# top left\n",
    "xtl = int(x*w_frame-w*w_frame/2)\n",
    "ytl = int(y*h_frame+h*h_frame/2)\n",
    "\n",
    "# bottom right\n",
    "xbr = int(x*w_frame+w*w_frame/2)\n",
    "ybr = int(y*h_frame-h*h_frame/2)\n",
    "\n",
    "img = cv2.rectangle(frame.copy(), (xtl,ytl),(xbr,ybr),(0,255,0),2 )\n",
    "plt.imshow(img)"
   ]
  },
  {
   "cell_type": "code",
   "execution_count": null,
   "metadata": {},
   "outputs": [],
   "source": [
    "# create train an valid txt\n",
    "count = 0\n",
    "for name in os.listdir(\"./data/images\"):\n",
    "    img_path = os.path.join(os.getcwd()+\"/images/\",name)\n",
    "    if count < 120: #45 to valid\n",
    "        with open(\"./train.txt\",\"a\") as x:\n",
    "            x.write(img_path + \"\\n\")\n",
    "    else:\n",
    "        with open(\"./valid.txt\",\"a\") as x:\n",
    "            x.write(img_path + \"\\n\")\n",
    "    count = count + 1\n"
   ]
  },
  {
   "cell_type": "code",
   "execution_count": null,
   "metadata": {},
   "outputs": [],
   "source": [
    "# train yolov7\n",
    "!ls"
   ]
  },
  {
   "cell_type": "code",
   "execution_count": null,
   "metadata": {},
   "outputs": [],
   "source": [
    "%cd yolov7"
   ]
  },
  {
   "cell_type": "code",
   "execution_count": null,
   "metadata": {},
   "outputs": [],
   "source": [
    "!python train.py --workers 8 --device 0 --batch-size 10 --data ../data.yaml --img 1080 1920 --cfg cfg/training/yolov7.yaml --weight \"../yolov7_training.pt\" --name yolov7-custom --epoch 10"
   ]
  }
 ],
 "metadata": {
  "language_info": {
   "name": "python"
  }
 },
 "nbformat": 4,
 "nbformat_minor": 2
}
